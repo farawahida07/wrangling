{
 "cells": [
  {
   "cell_type": "markdown",
   "metadata": {
    "id": "1NCOkrqfEuIj"
   },
   "source": [
    "# **Data Preparation**"
   ]
  },
  {
   "cell_type": "code",
   "execution_count": 1,
   "metadata": {
    "colab": {
     "base_uri": "https://localhost:8080/",
     "height": 829
    },
    "id": "LQLgWZIeEto8",
    "outputId": "c5903e2e-5e27-4ff9-8ede-b7273f7c111f"
   },
   "outputs": [
    {
     "ename": "FileNotFoundError",
     "evalue": "[Errno 2] No such file or directory: 'data preparation flowchart.jpeg'",
     "output_type": "error",
     "traceback": [
      "\u001b[1;31m---------------------------------------------------------------------------\u001b[0m",
      "\u001b[1;31mFileNotFoundError\u001b[0m                         Traceback (most recent call last)",
      "\u001b[1;32m~\\AppData\\Local\\Temp\\ipykernel_22668\\970250070.py\u001b[0m in \u001b[0;36m<module>\u001b[1;34m\u001b[0m\n\u001b[0;32m      1\u001b[0m \u001b[1;32mfrom\u001b[0m \u001b[0mPIL\u001b[0m \u001b[1;32mimport\u001b[0m \u001b[0mImage\u001b[0m\u001b[1;33m\u001b[0m\u001b[1;33m\u001b[0m\u001b[0m\n\u001b[1;32m----> 2\u001b[1;33m \u001b[0mimg\u001b[0m \u001b[1;33m=\u001b[0m \u001b[0mImage\u001b[0m\u001b[1;33m.\u001b[0m\u001b[0mopen\u001b[0m\u001b[1;33m(\u001b[0m\u001b[1;34m\"data preparation flowchart.jpeg\"\u001b[0m\u001b[1;33m)\u001b[0m\u001b[1;33m\u001b[0m\u001b[1;33m\u001b[0m\u001b[0m\n\u001b[0m\u001b[0;32m      3\u001b[0m \u001b[0mdisplay\u001b[0m\u001b[1;33m(\u001b[0m\u001b[0mimg\u001b[0m\u001b[1;33m)\u001b[0m\u001b[1;33m\u001b[0m\u001b[1;33m\u001b[0m\u001b[0m\n",
      "\u001b[1;32m~\\anaconda3\\lib\\site-packages\\PIL\\Image.py\u001b[0m in \u001b[0;36mopen\u001b[1;34m(fp, mode, formats)\u001b[0m\n\u001b[0;32m   3090\u001b[0m \u001b[1;33m\u001b[0m\u001b[0m\n\u001b[0;32m   3091\u001b[0m     \u001b[1;32mif\u001b[0m \u001b[0mfilename\u001b[0m\u001b[1;33m:\u001b[0m\u001b[1;33m\u001b[0m\u001b[1;33m\u001b[0m\u001b[0m\n\u001b[1;32m-> 3092\u001b[1;33m         \u001b[0mfp\u001b[0m \u001b[1;33m=\u001b[0m \u001b[0mbuiltins\u001b[0m\u001b[1;33m.\u001b[0m\u001b[0mopen\u001b[0m\u001b[1;33m(\u001b[0m\u001b[0mfilename\u001b[0m\u001b[1;33m,\u001b[0m \u001b[1;34m\"rb\"\u001b[0m\u001b[1;33m)\u001b[0m\u001b[1;33m\u001b[0m\u001b[1;33m\u001b[0m\u001b[0m\n\u001b[0m\u001b[0;32m   3093\u001b[0m         \u001b[0mexclusive_fp\u001b[0m \u001b[1;33m=\u001b[0m \u001b[1;32mTrue\u001b[0m\u001b[1;33m\u001b[0m\u001b[1;33m\u001b[0m\u001b[0m\n\u001b[0;32m   3094\u001b[0m \u001b[1;33m\u001b[0m\u001b[0m\n",
      "\u001b[1;31mFileNotFoundError\u001b[0m: [Errno 2] No such file or directory: 'data preparation flowchart.jpeg'"
     ]
    }
   ],
   "source": [
    "from PIL import Image\n",
    "img = Image.open(\"data preparation flowchart.jpeg\")\n",
    "display(img)"
   ]
  },
  {
   "cell_type": "markdown",
   "metadata": {
    "id": "vSt5NtOzSmx8"
   },
   "source": [
    "# **Data Import**"
   ]
  },
  {
   "cell_type": "code",
   "execution_count": null,
   "metadata": {
    "colab": {
     "base_uri": "https://localhost:8080/",
     "height": 904
    },
    "id": "A--fKEUWOGxd",
    "outputId": "499653ad-5afe-473b-d726-c9be2b4ec82c"
   },
   "outputs": [],
   "source": [
    "import pandas as pd\n",
    "data= pd.read_csv(\"listings_airbnb_munich.csv\")\n",
    "data"
   ]
  },
  {
   "cell_type": "code",
   "execution_count": null,
   "metadata": {
    "colab": {
     "base_uri": "https://localhost:8080/",
     "height": 0
    },
    "id": "8W8KvJTUO3L5",
    "outputId": "94f21a62-511f-4b57-c8df-9b6f7640db9b"
   },
   "outputs": [],
   "source": [
    "num_entries = data.shape[0]\n",
    "num_entries\n"
   ]
  },
  {
   "cell_type": "code",
   "execution_count": null,
   "metadata": {
    "colab": {
     "base_uri": "https://localhost:8080/",
     "height": 0
    },
    "id": "wBTa39rGPBZK",
    "outputId": "2f2fe55c-b7d4-4422-8fd0-015d22f526b7"
   },
   "outputs": [],
   "source": [
    "num_features = data.shape[1]\n",
    "num_features"
   ]
  },
  {
   "cell_type": "code",
   "execution_count": null,
   "metadata": {
    "colab": {
     "base_uri": "https://localhost:8080/",
     "height": 0
    },
    "id": "1EvXP6qUPTga",
    "outputId": "ae62081b-9a59-41c7-dc63-7601e29073de"
   },
   "outputs": [],
   "source": [
    "data.dtypes"
   ]
  },
  {
   "cell_type": "markdown",
   "metadata": {
    "id": "SRkBJu0S11UH"
   },
   "source": [
    "# **Data Cleaning**"
   ]
  },
  {
   "cell_type": "markdown",
   "metadata": {
    "id": "tXiHar_aStiK"
   },
   "source": [
    " Visualizing Missing Data"
   ]
  },
  {
   "cell_type": "code",
   "execution_count": null,
   "metadata": {
    "colab": {
     "base_uri": "https://localhost:8080/",
     "height": 768
    },
    "id": "Zx8kDjNm2kqC",
    "outputId": "d0d0e250-0333-4b5d-8868-50f62aaa1137"
   },
   "outputs": [],
   "source": [
    "import missingno as msno\n",
    "msno.matrix(data)"
   ]
  },
  {
   "cell_type": "code",
   "execution_count": null,
   "metadata": {
    "colab": {
     "base_uri": "https://localhost:8080/",
     "height": 423
    },
    "id": "1Q_8sS4ehPAA",
    "outputId": "ac58d3df-d59c-432f-d95e-7dab5e7a129b"
   },
   "outputs": [],
   "source": [
    "columns_to_drop = ['id', 'host_id', 'host_name', 'neighbourhood_group','number_of_reviews', 'last_review', 'reviews_per_month',\n",
    "                   'calculated_host_listings_count', 'number_of_reviews_ltm', 'license']\n",
    "new_data = data.drop(columns_to_drop, axis=1)\n",
    "new_data"
   ]
  },
  {
   "cell_type": "markdown",
   "metadata": {
    "id": "ZzmzEDYD2TqB"
   },
   "source": [
    "For a cleaner and more objective analysis, these variables had been deleted since the variables that dropped will not be used in our analysis."
   ]
  },
  {
   "cell_type": "code",
   "execution_count": null,
   "metadata": {
    "colab": {
     "base_uri": "https://localhost:8080/",
     "height": 698
    },
    "id": "oP4DWr9XSMQ6",
    "outputId": "547fa32c-b370-4714-ef43-a5717f0c2dc3"
   },
   "outputs": [],
   "source": [
    "import missingno as msno\n",
    "msno.matrix(new_data)"
   ]
  },
  {
   "cell_type": "code",
   "execution_count": null,
   "metadata": {
    "colab": {
     "base_uri": "https://localhost:8080/",
     "height": 0
    },
    "id": "m4In0xg_g43o",
    "outputId": "f54e6c78-bf69-43e6-806f-59cb82467e4e"
   },
   "outputs": [],
   "source": [
    "import pandas as pd\n",
    "missing_percentage = new_data.isnull().mean()*100\n",
    "missing_percentage"
   ]
  },
  {
   "cell_type": "markdown",
   "metadata": {
    "id": "NKKGfdx88FB_"
   },
   "source": [
    "This dataset has practically no null values, therefore no null values treatment will be performed."
   ]
  },
  {
   "cell_type": "markdown",
   "metadata": {
    "id": "UG31ji5aoNc0"
   },
   "source": [
    "Outliers Detection and Treatment"
   ]
  },
  {
   "cell_type": "code",
   "execution_count": null,
   "metadata": {
    "id": "gO6Vq9RennUg"
   },
   "outputs": [],
   "source": [
    "import pandas as pd\n",
    "import matplotlib.pyplot as plt"
   ]
  },
  {
   "cell_type": "code",
   "execution_count": null,
   "metadata": {
    "colab": {
     "base_uri": "https://localhost:8080/",
     "height": 410
    },
    "id": "HN5bxhVDolO0",
    "outputId": "775e7608-26bb-4692-9852-b1f6299beb4a"
   },
   "outputs": [],
   "source": [
    "plt.figure(figsize=(6, 4))\n",
    "plt.hist(new_data['latitude'])\n",
    "plt.title(\"latitude\" + \" Histogram\")\n",
    "plt.xlabel(\"latitude\")\n",
    "plt.ylabel(\"Frequency\")\n",
    "plt.show()"
   ]
  },
  {
   "cell_type": "code",
   "execution_count": null,
   "metadata": {
    "colab": {
     "base_uri": "https://localhost:8080/",
     "height": 410
    },
    "id": "wkwuhaYXpt-G",
    "outputId": "8507e9a5-81bf-4455-b353-92af0d7a0a0b"
   },
   "outputs": [],
   "source": [
    "plt.figure(figsize=(6, 4))\n",
    "plt.hist(new_data['longitude'])\n",
    "plt.title(\"longitude\" + \" Histogram\")\n",
    "plt.xlabel(\"longitude\")\n",
    "plt.ylabel(\"Frequency\")\n",
    "plt.show()"
   ]
  },
  {
   "cell_type": "code",
   "execution_count": null,
   "metadata": {
    "colab": {
     "base_uri": "https://localhost:8080/",
     "height": 410
    },
    "id": "WOMhwV3Xp842",
    "outputId": "e9f4cb38-560f-4621-cc66-26aaedc5e197"
   },
   "outputs": [],
   "source": [
    "plt.figure(figsize=(6,4))\n",
    "plt.hist(new_data['price'])\n",
    "plt.title(\"price\" + \" Histogram\")\n",
    "plt.xlabel(\"price\")\n",
    "plt.ylabel(\"Frequency\")\n",
    "\n",
    "plt.show()"
   ]
  },
  {
   "cell_type": "code",
   "execution_count": null,
   "metadata": {
    "colab": {
     "base_uri": "https://localhost:8080/",
     "height": 410
    },
    "id": "SGxzgM-mqFjp",
    "outputId": "1275bec0-d691-4f24-b747-ac47caad596b"
   },
   "outputs": [],
   "source": [
    "plt.figure(figsize=(6, 4))\n",
    "plt.hist(new_data['minimum_nights'])\n",
    "plt.title(\"minimum_nights\" + \" Histogram\")\n",
    "plt.xlabel(\"minimum_nights\")\n",
    "plt.ylabel(\"Frequency\")\n",
    "plt.show()"
   ]
  },
  {
   "cell_type": "code",
   "execution_count": null,
   "metadata": {
    "colab": {
     "base_uri": "https://localhost:8080/",
     "height": 410
    },
    "id": "VyLNDwcbqnsH",
    "outputId": "e734625b-a519-4ba7-8f3b-a5f6ad1dd353"
   },
   "outputs": [],
   "source": [
    "plt.figure(figsize=(6, 4))\n",
    "plt.hist(new_data['availability_365'])\n",
    "plt.title(\"availability_365\" + \" Histogram\")\n",
    "plt.xlabel(\"availability_365\")\n",
    "plt.ylabel(\"Frequency\")\n",
    "plt.show()"
   ]
  },
  {
   "cell_type": "markdown",
   "metadata": {
    "id": "G--PccJfq6Jt"
   },
   "source": [
    "Through the five histogram, it is possible to verify the presence of outliers in the variables 'price' and 'minimum_nights'. The values do not follow a distribution and distort the entire graphical presentation.\n",
    "\n"
   ]
  },
  {
   "cell_type": "code",
   "execution_count": null,
   "metadata": {
    "colab": {
     "base_uri": "https://localhost:8080/",
     "height": 300
    },
    "id": "94uAO277szBE",
    "outputId": "f3f4a8da-495c-4723-ef28-f787996dff86"
   },
   "outputs": [],
   "source": [
    "new_data.describe()"
   ]
  },
  {
   "cell_type": "markdown",
   "metadata": {
    "id": "P0ZNQ-xwtMiB"
   },
   "source": [
    "The variable 'price' has 75% of its values below 167, but its maximum value is 96274, which is well above the values obtained up to 75% of the dataset, which proves the presence of outliers. "
   ]
  },
  {
   "cell_type": "markdown",
   "metadata": {
    "id": "r8F5pJRgL1Sy"
   },
   "source": [
    "The variable 'price' presents minimum values equal to 0. Understanding the Airbnb business, it is known that no one rents any property on Airbnb for free."
   ]
  },
  {
   "cell_type": "markdown",
   "metadata": {
    "id": "pflWbSrCMFqC"
   },
   "source": [
    "The variable 'minimum_nights' has 75% of its values below 4, but its maximum value is 1095, which is well above the values obtained up to 75% of the dataset, which proves the presence of outliers."
   ]
  },
  {
   "cell_type": "markdown",
   "metadata": {
    "id": "A0lt5tW8Mv3n"
   },
   "source": [
    "**Boxplot for \"Price\"**"
   ]
  },
  {
   "cell_type": "code",
   "execution_count": null,
   "metadata": {
    "colab": {
     "base_uri": "https://localhost:8080/",
     "height": 564
    },
    "id": "R6snPyrDMq0w",
    "outputId": "7df275dc-a272-4ae3-a1b4-f350575b588b"
   },
   "outputs": [],
   "source": [
    "plt.figure(figsize=(8, 6))\n",
    "plt.boxplot(new_data['price'], vert=False)\n",
    "plt.title('Boxplot of ' + 'price')\n",
    "plt.xlabel('price')\n",
    "plt.ylabel('Values')\n",
    "plt.xlim(0,10000)\n",
    "plt.show()"
   ]
  },
  {
   "cell_type": "code",
   "execution_count": null,
   "metadata": {
    "colab": {
     "base_uri": "https://localhost:8080/",
     "height": 0
    },
    "id": "z2ZL47VYouOx",
    "outputId": "057e5205-36db-4a2e-f5c6-c82eae0953fe"
   },
   "outputs": [],
   "source": [
    "import numpy as np\n",
    "import pandas as pd\n",
    "\n",
    "outliers = new_data[new_data['price'] > 1000]\n",
    "outliers_count = np.sum(new_data['price'] > 1000)\n",
    "outliers_ratio = round(outliers_count / len(new_data), 3)\n",
    "\n",
    "print(\"Outliers:\")\n",
    "print(outliers)\n",
    "print(\"\\nQuantity of Outliers:\", outliers_count)\n",
    "print(\"Outliers Ratio:\", outliers_ratio)\n"
   ]
  },
  {
   "cell_type": "code",
   "execution_count": null,
   "metadata": {
    "colab": {
     "base_uri": "https://localhost:8080/",
     "height": 0
    },
    "id": "BYbKppWkO_PR",
    "outputId": "a65177f9-5db2-4ad8-8cbb-b9712331a2c9"
   },
   "outputs": [],
   "source": [
    "import numpy as np\n",
    "import pandas as pd\n",
    "\n",
    "zero_price_values = new_data[new_data['price'] == 0]\n",
    "\n",
    "print(\"\\nValues where 'price' is equal to 0:\")\n",
    "print(zero_price_values)\n",
    "\n",
    "outliers_count = np.sum(new_data['price'] == 0)\n",
    "print(\"\\nQuantity of Outliers:\", outliers_count)\n",
    "\n",
    "outliers_ratio = round(outliers_count / len(new_data), 3)\n",
    "print(\"Outliers Ratio:\", outliers_ratio)\n"
   ]
  },
  {
   "cell_type": "markdown",
   "metadata": {
    "id": "cTATWZxK2KAD"
   },
   "source": [
    "Above, the boxplot for the variable 'price' visually shows the information contained in the summary statistics.\n",
    "\n",
    "As a parameter, all data greater than 1000 will be considered an outlier in this analysis. Above also, we will see the quantity and ratio of these outliers and the values where 'price' is equal to 0."
   ]
  },
  {
   "cell_type": "markdown",
   "metadata": {
    "id": "IMtj5sFmRSb9"
   },
   "source": [
    "**Boxplot for \"minimum_nights\"**"
   ]
  },
  {
   "cell_type": "code",
   "execution_count": null,
   "metadata": {
    "colab": {
     "base_uri": "https://localhost:8080/",
     "height": 564
    },
    "id": "PI3uqRQzUtU5",
    "outputId": "f247f491-a5db-4d51-a72d-66420acf71f8"
   },
   "outputs": [],
   "source": [
    "plt.figure(figsize=(8, 6))\n",
    "plt.boxplot(new_data['minimum_nights'], vert=False)\n",
    "plt.title('Boxplot of ' + 'minimum_nights')\n",
    "plt.xlabel('minimum_nights')\n",
    "plt.ylabel('Values')\n",
    "plt.xlim(0,1000)\n",
    "\n",
    "plt.show()"
   ]
  },
  {
   "cell_type": "code",
   "execution_count": null,
   "metadata": {
    "colab": {
     "base_uri": "https://localhost:8080/",
     "height": 0
    },
    "id": "Eb1sNnpWRK16",
    "outputId": "2d046fc4-cab6-4ef3-ea77-0ee8e53f7eec"
   },
   "outputs": [],
   "source": [
    "import numpy as np\n",
    "import pandas as pd\n",
    "\n",
    "outliers = new_data[new_data['price'] > 30]\n",
    "\n",
    "outliers_count = np.sum(new_data['price'] > 30)\n",
    "outliers_ratio = round(outliers_count / len(new_data), 3)\n",
    "\n",
    "print(\"Outliers:\")\n",
    "print(outliers)\n",
    "print(\"\\nQuantity of Outliers:\", outliers_count)\n",
    "print(\"Outliers Ratio:\", outliers_ratio)\n"
   ]
  },
  {
   "cell_type": "markdown",
   "metadata": {
    "id": "lfwqeZhq2eRb"
   },
   "source": [
    "Above, the boxplot for the variable 'minimum_nights' visually shows the information contained in the summary statistics.\n",
    "\n",
    "As a parameter, all data greater than 30 will be considered an outlier in this analysis. Above also, we will see the quantity and ratio of these outliers."
   ]
  },
  {
   "cell_type": "markdown",
   "metadata": {
    "id": "Pfl4R22jKAvr"
   },
   "source": [
    "We had set parameters for both of them in which will be considered outliers since the amount of outliers are too many."
   ]
  },
  {
   "cell_type": "markdown",
   "metadata": {
    "id": "s4ngv7uwWbKU"
   },
   "source": [
    "## **Removing Outliers and Creating Data Frame for Analysis**"
   ]
  },
  {
   "cell_type": "code",
   "execution_count": null,
   "metadata": {
    "colab": {
     "base_uri": "https://localhost:8080/",
     "height": 0
    },
    "id": "31snujoZVaV3",
    "outputId": "8a7042af-a736-4d4c-d639-8f4946c8a111"
   },
   "outputs": [],
   "source": [
    "outliers = new_data[new_data['price'] > 1000]\n",
    "\n",
    "cleaned_data = new_data.drop(outliers.index)\n",
    "\n",
    "print(\"Cleaned Data:\")\n",
    "print(cleaned_data)"
   ]
  },
  {
   "cell_type": "code",
   "execution_count": null,
   "metadata": {
    "colab": {
     "base_uri": "https://localhost:8080/",
     "height": 564
    },
    "id": "OK9Ol9TkWHH7",
    "outputId": "d96200af-b5eb-4c34-b69e-99caf1d17008"
   },
   "outputs": [],
   "source": [
    "plt.figure(figsize=(8, 6))\n",
    "plt.boxplot(cleaned_data['price'], vert=False)\n",
    "plt.title('Boxplot of ' + 'price')\n",
    "plt.xlabel('price')\n",
    "plt.ylabel('Values')\n",
    "plt.show()"
   ]
  },
  {
   "cell_type": "code",
   "execution_count": null,
   "metadata": {
    "colab": {
     "base_uri": "https://localhost:8080/",
     "height": 0
    },
    "id": "8RLh_cUkW0M2",
    "outputId": "fc86643b-7899-4aff-b4ea-11319f2db602"
   },
   "outputs": [],
   "source": [
    "outliers = new_data[new_data['minimum_nights'] > 30]\n",
    "\n",
    "# Remove outliers from the DataFrame\n",
    "cleaned_data = new_data.drop(outliers.index)\n",
    "\n",
    "# Display the cleaned data\n",
    "print(\"Cleaned Data:\")\n",
    "print(cleaned_data)"
   ]
  },
  {
   "cell_type": "code",
   "execution_count": null,
   "metadata": {
    "colab": {
     "base_uri": "https://localhost:8080/",
     "height": 564
    },
    "id": "7xMh5YEXW7mD",
    "outputId": "c0bae046-d9aa-46e2-cd10-4c3364bc8ce2"
   },
   "outputs": [],
   "source": [
    "plt.figure(figsize=(8, 6))\n",
    "plt.boxplot(cleaned_data['minimum_nights'], vert=False)\n",
    "plt.title('Boxplot of ' + 'minimum_nights')\n",
    "plt.xlabel('minimum_nights')\n",
    "plt.ylabel('Values')\n",
    "plt.show()"
   ]
  },
  {
   "cell_type": "markdown",
   "metadata": {
    "id": "Cmn2Plqb3FR5"
   },
   "source": [
    "Finally, with the clean data frame created and treated, the analysis begins."
   ]
  },
  {
   "cell_type": "code",
   "execution_count": null,
   "metadata": {
    "colab": {
     "base_uri": "https://localhost:8080/",
     "height": 300
    },
    "id": "5D-rr43I3JlU",
    "outputId": "600ccad7-9ffd-4f56-9b57-24f541f7e76c"
   },
   "outputs": [],
   "source": [
    "cleaned_data.describe()"
   ]
  },
  {
   "cell_type": "markdown",
   "metadata": {
    "id": "7K4d48UTCKZD"
   },
   "source": [
    "# **Exploratory Data Analysis**"
   ]
  },
  {
   "cell_type": "markdown",
   "metadata": {
    "id": "EPMh0oL_JMyJ"
   },
   "source": [
    "Objective 1:"
   ]
  },
  {
   "cell_type": "code",
   "execution_count": null,
   "metadata": {
    "colab": {
     "base_uri": "https://localhost:8080/",
     "height": 0
    },
    "id": "nx6SYJXLCb1a",
    "outputId": "87152a49-a968-4aeb-a721-1932cc072fb9"
   },
   "outputs": [],
   "source": [
    "import pandas as pd\n",
    "property_counts = new_data['room_type'].value_counts()\n",
    "property_ratios = (property_counts / len(new_data) * 100).round(2).astype(str) + '%'\n",
    "\n",
    "print(\"Number of Property Types:\")\n",
    "print(property_counts)\n",
    "print()\n",
    "\n",
    "print(\"Ratio of Property Types:\")\n",
    "print(property_ratios)"
   ]
  },
  {
   "cell_type": "code",
   "execution_count": null,
   "metadata": {
    "colab": {
     "base_uri": "https://localhost:8080/",
     "height": 564
    },
    "id": "mSQQcsv3Di4K",
    "outputId": "600de9a7-9535-4e64-8050-817841004e5f"
   },
   "outputs": [],
   "source": [
    "import matplotlib.pyplot as plt\n",
    "\n",
    "room_types = ['Entire home/apt', 'Private room', 'Shared room', 'Hotel room']\n",
    "counts = [2462, 2050, 80, 58]\n",
    "colors = ['#FFC0CB', '#FFD700', '#ADD8E6', '#90EE90']\n",
    "\n",
    "plt.figure(figsize=(8, 6))\n",
    "plt.bar(room_types, counts, color=colors)\n",
    "\n",
    "for i, count in enumerate(counts):\n",
    "    plt.text(i, count, str(count), ha='center', va='bottom')\n",
    "\n",
    "plt.title(\"Number of Property Types\")\n",
    "plt.xlabel(\"Room Type\")\n",
    "plt.ylabel(\"Count\")\n",
    "\n",
    "plt.show()\n"
   ]
  },
  {
   "cell_type": "markdown",
   "metadata": {
    "id": "X3mRtikQHgPL"
   },
   "source": [
    "As the property types 'Shared room' and 'Hotel room' are not relevant to the number of properties being rented on Airbnb in the city of Munich, we will continue this analysis in the neighbourhoods using only the property types 'Entire home/apt' and 'Private room'. In Munich, Germany, hotel rooms and shared rooms might not be as common as other property types for a variety of reasons. First off, shared rooms often offer little in the way of personal space or privacy, which may not be what most travellers like. Munich is a well-liked travel destination, drawing a variety of tourists who frequently seek out more secluded and pleasant lodgings. Additionally, Munich has a large supply of hotels with a variety of alternatives and amenities, which could reduce the demand for hotels with listings on Airbnb. Additionally, Munich's cultural tastes and accepted travel practices may have an impact on how popular shared rooms and hotel rooms are, with a stronger desire for complete homes or private rooms that offer a more individualised and opulent experience.\n"
   ]
  },
  {
   "cell_type": "code",
   "execution_count": null,
   "metadata": {
    "colab": {
     "base_uri": "https://localhost:8080/",
     "height": 934
    },
    "id": "p9CgHWBzEUdB",
    "outputId": "91d37cf1-37ac-48ff-85a5-05c094a95d5a"
   },
   "outputs": [],
   "source": [
    "import matplotlib.pyplot as plt\n",
    "\n",
    "grouped_data = grouped_data.sort_values(by='Entire home/apt Ratio', ascending=False)\n",
    "\n",
    "fig, ax = plt.subplots(figsize=(10, 6))\n",
    "grouped_data[['Entire home/apt Ratio', 'Private room Ratio']].plot(kind='bar', stacked=True, ax=ax)\n",
    "\n",
    "plt.title('Ratio of Room Types by Neighbourhood')\n",
    "plt.xlabel('Neighbourhood')\n",
    "plt.ylabel('Ratio (%)')\n",
    "\n",
    "plt.legend()\n",
    "\n",
    "plt.xticks(rotation=90)\n",
    "\n",
    "plt.show()\n"
   ]
  },
  {
   "cell_type": "markdown",
   "metadata": {
    "id": "jd5UmpGXFW1Q"
   },
   "source": [
    "It can be seen that the distribution of property types in Munich is well balanced in most neighbourhoods. This indicates that both types of accommodations are available and in demand, providing a diverse range of options for travelers.\n",
    "A well-balanced distribution of property types can be beneficial for both hosts and guests. Hosts have the flexibility to offer different types of accommodations based on their property and preferences, while guests have the opportunity to choose the type of accommodation that suits their needs and preferences. \n"
   ]
  },
  {
   "cell_type": "markdown",
   "metadata": {
    "id": "yufBOCVpFfCc"
   },
   "source": [
    "Below we can see the neighbourhoods where the proportion of property type 'Entire home/apt' is higher, so if the Airbnb user wants to stay in one of the neighbourhoods listed below, there is a greater chance that this user will find offers of this type property available."
   ]
  },
  {
   "cell_type": "code",
   "execution_count": null,
   "metadata": {
    "colab": {
     "base_uri": "https://localhost:8080/",
     "height": 564
    },
    "id": "udXrhEDzFk0b",
    "outputId": "19ba1bbb-a51f-439b-d74a-a5fbf76a8a68"
   },
   "outputs": [],
   "source": [
    "import matplotlib.pyplot as plt\n",
    "\n",
    "\n",
    "top_5_neighborhoods = grouped_data.head(5)\n",
    "\n",
    "\n",
    "plt.figure(figsize=(8, 6))\n",
    "plt.barh(top_5_neighborhoods.index, top_5_neighborhoods['Entire home/apt Ratio'], color='blue', label='Entire home/apt')\n",
    "plt.barh(top_5_neighborhoods.index, top_5_neighborhoods['Private room Ratio'], color='pink', label='Private room')\n",
    "\n",
    "\n",
    "for i, neighborhood in enumerate(top_5_neighborhoods.index):\n",
    "    ratio_entire = top_5_neighborhoods.loc[neighborhood, 'Entire home/apt Ratio']\n",
    "    ratio_private = top_5_neighborhoods.loc[neighborhood, 'Private room Ratio']\n",
    "    plt.text(ratio_entire, i, f'{ratio_entire}%', va='center', color='black')\n",
    "    plt.text(ratio_private, i, f'{ratio_private}%', va='center', color='black')\n",
    "\n",
    "\n",
    "plt.title(\"Top 5 Neighborhoods with Highest Ratios\")\n",
    "plt.xlabel(\"Ratio (%)\")\n",
    "plt.ylabel(\"Neighborhood\")\n",
    "plt.legend()\n",
    "\n",
    "\n",
    "plt.show()\n",
    "\n",
    "\n"
   ]
  },
  {
   "cell_type": "markdown",
   "metadata": {
    "id": "M_StQ-WbKXpk"
   },
   "source": [
    "These neighbourhoods in Munich may have a higher concentration of residential properties or property owners who are more inclined to rent out their entire homes/apartments rather than individual rooms.\n"
   ]
  },
  {
   "cell_type": "markdown",
   "metadata": {
    "id": "uAJXHf11Iitr"
   },
   "source": [
    "Now, we can see the neighbourhoods where the proportion of property type 'Private room' is higher, so if the Airbnb user wants to stay in one of the neighbourhoods listed below, there is a greater chance that this user will find offers for this type of property available."
   ]
  },
  {
   "cell_type": "code",
   "execution_count": null,
   "metadata": {
    "colab": {
     "base_uri": "https://localhost:8080/",
     "height": 564
    },
    "id": "C0diIkl7IZ9K",
    "outputId": "db5c1c98-de94-48f4-ab19-4dc0d4e34614"
   },
   "outputs": [],
   "source": [
    "import matplotlib.pyplot as plt\n",
    "\n",
    "top_5_neighborhoods = grouped_data.tail(5)\n",
    "\n",
    "plt.figure(figsize=(8, 6))\n",
    "plt.barh(top_5_neighborhoods.index, top_5_neighborhoods['Entire home/apt Ratio'], color='blue', label='Entire home/apt')\n",
    "plt.barh(top_5_neighborhoods.index, top_5_neighborhoods['Private room Ratio'], color='pink', label='Private room')\n",
    "\n",
    "for i, neighborhood in enumerate(top_5_neighborhoods.index):\n",
    "    ratio_entire = top_5_neighborhoods.loc[neighborhood, 'Entire home/apt Ratio']\n",
    "    ratio_private = top_5_neighborhoods.loc[neighborhood, 'Private room Ratio']\n",
    "    plt.text(ratio_entire, i, f'{ratio_entire}%', va='center', color='black')\n",
    "    plt.text(ratio_private, i, f'{ratio_private}%', va='center', color='black')\n",
    "\n",
    "plt.title(\"Top 5 Neighborhoods with Highest Ratios\")\n",
    "plt.xlabel(\"Ratio (%)\")\n",
    "plt.ylabel(\"Neighborhood\")\n",
    "plt.legend()\n",
    "\n",
    "plt.show()\n"
   ]
  },
  {
   "cell_type": "markdown",
   "metadata": {
    "id": "EMMW85EoKcq8"
   },
   "source": [
    "The unique characteristics of the neighborhoods, such as their location, amenities, atmosphere, or target audience, might make them more attractive for travelers or tenants seeking private room accommodations. For example, neighborhoods near universities or popular tourist destinations often have a higher demand for private rooms.\n"
   ]
  },
  {
   "cell_type": "markdown",
   "metadata": {
    "id": "AHOYJB4EJSVo"
   },
   "source": [
    "Objective 2:"
   ]
  },
  {
   "cell_type": "code",
   "execution_count": null,
   "metadata": {
    "colab": {
     "base_uri": "https://localhost:8080/",
     "height": 0
    },
    "id": "Xc0kFZVtXGNO",
    "outputId": "d71a6c4e-0964-4057-cd57-0751e55210d1"
   },
   "outputs": [],
   "source": [
    "selected_columns = ['neighbourhood', 'price']\n",
    "selected_data = data[selected_columns]\n",
    "average_price_by_neighbourhood = round(selected_data.groupby('neighbourhood')['price'].mean().sort_values(ascending=False),2)\n",
    "average_price_by_neighbourhood"
   ]
  },
  {
   "cell_type": "code",
   "execution_count": null,
   "metadata": {
    "colab": {
     "base_uri": "https://localhost:8080/",
     "height": 934
    },
    "id": "f8rCeqGiJTsh",
    "outputId": "ce5c1cd5-472a-4a7c-d04e-bb95ae51aa48"
   },
   "outputs": [],
   "source": [
    "import matplotlib.pyplot as plt\n",
    "\n",
    "neighbourhood_prices = new_data.groupby('neighbourhood')['price'].mean().sort_values(ascending=False)\n",
    "\n",
    "plt.figure(figsize=(10, 6))\n",
    "neighbourhood_prices.plot(kind='bar', color='red')\n",
    "plt.title('Average Price by Neighbourhood')\n",
    "plt.xlabel('Neighbourhood')\n",
    "plt.ylabel('Average Price')\n",
    "plt.xticks(rotation=90)\n",
    "plt.show()\n",
    "\n"
   ]
  },
  {
   "cell_type": "markdown",
   "metadata": {
    "id": "T9lk8RRKWunt"
   },
   "source": [
    "Above is the average property price per neighbourhood in Munich. We can see that there is a big price difference, where the average price in the most expensive neighbourhood is 412.64 and in the cheapest neighbourhood is 95.43."
   ]
  },
  {
   "cell_type": "code",
   "execution_count": null,
   "metadata": {
    "colab": {
     "base_uri": "https://localhost:8080/",
     "height": 0
    },
    "id": "UXrWaG9WL-G3",
    "outputId": "9b487458-913b-4e7d-cd3b-5b5ac65734d5"
   },
   "outputs": [],
   "source": [
    "highest_prices = round(new_data.groupby('neighbourhood')['price'].mean().nlargest(2),2)\n",
    "\n",
    "lowest_prices = round(new_data.groupby('neighbourhood')['price'].mean().nsmallest(2),2)\n",
    "\n",
    "print(\"Neighbourhoods with the Highest Prices:\")\n",
    "print(highest_prices)\n",
    "\n",
    "print(\"\\nNeighbourhoods with the Lowest Prices:\")\n",
    "print(lowest_prices)\n"
   ]
  },
  {
   "cell_type": "markdown",
   "metadata": {
    "id": "Ek6GkMIgOOY5"
   },
   "source": [
    "Objective 3:"
   ]
  },
  {
   "cell_type": "code",
   "execution_count": null,
   "metadata": {
    "colab": {
     "base_uri": "https://localhost:8080/",
     "height": 0
    },
    "id": "wwHGzOY48iwC",
    "outputId": "30c750ef-2c88-4958-f78e-e112f64be2f4"
   },
   "outputs": [],
   "source": [
    "!pip install folium"
   ]
  },
  {
   "cell_type": "code",
   "execution_count": null,
   "metadata": {
    "colab": {
     "base_uri": "https://localhost:8080/",
     "height": 0
    },
    "id": "ZzFi3FMwUEfF",
    "outputId": "7af09b77-b5a6-48d6-c54a-121d97251887"
   },
   "outputs": [],
   "source": [
    "!pip install geopandas"
   ]
  },
  {
   "cell_type": "code",
   "execution_count": null,
   "metadata": {
    "id": "k0l0JcwDOQo5"
   },
   "outputs": [],
   "source": [
    "import geopandas as gpd"
   ]
  },
  {
   "cell_type": "code",
   "execution_count": null,
   "metadata": {
    "colab": {
     "base_uri": "https://localhost:8080/",
     "height": 718
    },
    "id": "6JythDLuRlt8",
    "outputId": "80e7c815-8af0-4f0e-907f-3c065fbcbc24"
   },
   "outputs": [],
   "source": [
    "selected_columns = ['latitude', 'longitude']\n",
    "selected_data = data[selected_columns]\n",
    "\n",
    "plt.figure(figsize=(10, 8))\n",
    "plt.scatter(selected_data['longitude'], selected_data['latitude'], s=5, alpha=1.0)\n",
    "plt.xlabel('Longitude')\n",
    "plt.ylabel('Latitude')\n",
    "plt.title('Distribution of Airbnb Listings')\n",
    "plt.show()"
   ]
  },
  {
   "cell_type": "markdown",
   "metadata": {
    "id": "QUimjoZ8Ac7U"
   },
   "source": [
    "Sparse areas or gaps on the scatter plot indicate regions in Munich with fewer Airbnb listings. These areas might be underrepresented or less popular for rentals, which could provide opportunities for market analysis or potential expansion of Airbnb services."
   ]
  },
  {
   "cell_type": "code",
   "execution_count": null,
   "metadata": {
    "colab": {
     "base_uri": "https://localhost:8080/",
     "height": 866
    },
    "id": "Wg7TMXm__UO5",
    "outputId": "6ed4ffb3-c031-4ddb-95a2-fa76cbe0c044"
   },
   "outputs": [],
   "source": [
    "import folium\n",
    "\n",
    "selected_columns = ['latitude', 'longitude']\n",
    "selected_data = data[selected_columns]\n",
    "\n",
    "m = folium.Map(selected_data=['latitude', 'longitude'], zoom_start=12)\n",
    "\n",
    "for index, row in data.iterrows():\n",
    "    folium.CircleMarker(location=[row['latitude'], row['longitude']],\n",
    "                        radius=5,\n",
    "                        color='blue',\n",
    "                        fill=True,\n",
    "                        fill_color='blue',\n",
    "                        fill_opacity=0.6,\n",
    "                        popup=row['neighbourhood']).add_to(m)\n",
    "\n",
    "m"
   ]
  },
  {
   "cell_type": "markdown",
   "metadata": {
    "id": "6v4qzdSJUePV"
   },
   "source": [
    "Above graph show more specific for the location with Airbnb activity. The graph provides a visual representation of the geographic distribution of Airbnb in Munich listings based on latitude and longitude coordinates. Each marker on the map represents a specific location. The density of markers indicates the concentration of Airbnb listings in different areas. We can observe clusters or hotspots where multiple markers are closely grouped together, indicating popular or densely populated areas for rentals. Sparse areas or gaps on the map with fewer markers indicate regions with lower Airbnb activity. These areas might be less popular for rentals, indicating potential gaps or opportunities for market analysis or expansion of Airbnb services.  By examining the map, we can identify the proximity of Airbnb listings to specific points of interest such as tourist attractions, parks, transportation hubs, or commercial centers. This information can be useful for travelers or property owners in understanding the accessibility and desirability of different locations.\n",
    "The interactive nature of the map allows users to zoom in and out, as well as pan across different areas for a more detailed exploration of the distribution and patterns.\n"
   ]
  },
  {
   "cell_type": "markdown",
   "metadata": {
    "id": "xSOPnl6AaxF_"
   },
   "source": [
    "Objective 4:"
   ]
  },
  {
   "cell_type": "code",
   "execution_count": null,
   "metadata": {
    "colab": {
     "base_uri": "https://localhost:8080/",
     "height": 0
    },
    "id": "ztDGyyoYeBMn",
    "outputId": "9dfa43fe-1d8f-45f1-8481-22517cae816a"
   },
   "outputs": [],
   "source": [
    "selected_columns = ['minimum_nights', 'price']\n",
    "selected_data = data[selected_columns]\n",
    "round(selected_data.groupby('minimum_nights')['price'].mean().sort_values(ascending=False),2)"
   ]
  },
  {
   "cell_type": "code",
   "execution_count": null,
   "metadata": {
    "colab": {
     "base_uri": "https://localhost:8080/",
     "height": 564
    },
    "id": "OaHGFuVRbMNP",
    "outputId": "93eeb0ee-0de0-4292-ce86-96aa4b9df730"
   },
   "outputs": [],
   "source": [
    "import seaborn as sns\n",
    "import matplotlib.pyplot as plt\n",
    "\n",
    "selected_columns = ['minimum_nights', 'price']\n",
    "selected_data = data[selected_columns]\n",
    "\n",
    "average_price_by_minimum_nights = selected_data.groupby('minimum_nights')['price'].mean().reset_index()\n",
    "\n",
    "plt.figure(figsize=(10, 6))\n",
    "sns.lineplot(data=average_price_by_minimum_nights, x='minimum_nights', y='price', marker='o')\n",
    "plt.title('Average Price by Minimum Nights Requirement')\n",
    "plt.xlabel('Minimum Nights Requirement')\n",
    "plt.ylabel('Average Price')\n",
    "plt.grid(True)\n",
    "plt.show()\n"
   ]
  },
  {
   "cell_type": "markdown",
   "metadata": {
    "id": "4u1zKAzIb77v"
   },
   "source": [
    "From this we can determine the optimal minimum nights for maximizing rental income or occupancy rates, we can look for points on the graph that correspond to higher average prices. These points indicate the minimum nights requirement that yields higher rental prices, which can contribute to maximizing rental income or occupancy rates."
   ]
  },
  {
   "cell_type": "markdown",
   "metadata": {
    "id": "PTlWaw7okvD3"
   },
   "source": [
    "There is no trend that we can see between the minimum nights requirement and rental prices. It is because of rental prices are typically influenced by multiple factors, such as property size, location, amenities, and seasonal demand. The minimum nights requirement alone may not be the primary determinant of rental prices. We should consider analyzing the combined effect of multiple variables to gain a comprehensive understanding of the factors influencing rental prices."
   ]
  }
 ],
 "metadata": {
  "colab": {
   "provenance": []
  },
  "kernelspec": {
   "display_name": "Python 3 (ipykernel)",
   "language": "python",
   "name": "python3"
  },
  "language_info": {
   "codemirror_mode": {
    "name": "ipython",
    "version": 3
   },
   "file_extension": ".py",
   "mimetype": "text/x-python",
   "name": "python",
   "nbconvert_exporter": "python",
   "pygments_lexer": "ipython3",
   "version": "3.9.13"
  }
 },
 "nbformat": 4,
 "nbformat_minor": 1
}
